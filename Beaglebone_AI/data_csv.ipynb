{
 "cells": [
  {
   "cell_type": "code",
   "execution_count": 2,
   "metadata": {},
   "outputs": [],
   "source": [
    "import csv\n",
    "from datetime import datetime\n",
    "from datetime import timedelta\n",
    "import random\n",
    "import pandas as pd\n",
    "import numpy as np"
   ]
  },
  {
   "cell_type": "code",
   "execution_count": 3,
   "metadata": {},
   "outputs": [],
   "source": [
    "\n",
    "header = ['Time', 'LED_2W', 'LED_4W','Halogen','CFL','Toaster','Fan','Total']\n",
    "with open('Daily_Energy.csv', 'w', encoding='UTF8', newline='') as f:\n",
    "    writer = csv.writer(f)\n",
    "    writer.writerow(header)"
   ]
  },
  {
   "cell_type": "code",
   "execution_count": 5,
   "metadata": {},
   "outputs": [],
   "source": [
    "past = (datetime(2022, 11, 12,0,0,0))\n",
    "for i in range(86400):\n",
    "    t = datetime.now()\n",
    "    LED_2W = 2 * random.randint(0, 1)\n",
    "    LED_4W = 4 * random.randint(0, 1)\n",
    "    Halogen_1 = 70 * random.randint(0, 1)\n",
    "    Halogen_2 = 70 * random.randint(0, 1)\n",
    "    CFL = 20 * random.randint(0, 1)\n",
    "    Toaster = 750 * random.randint(0, 1)\n",
    "\n",
    "    Fan_speed_1 = random.randint(0, 1)\n",
    "    Fan_speed_2 = random.randint(0, 1)\n",
    "\n",
    "    Fan_speed = 15 * (Fan_speed_1 ^ Fan_speed_2)\n",
    "    if Fan_speed_2 == 1:\n",
    "        Fan_speed = Fan_speed + 2\n",
    "    header = [t.strftime(\"%H:%M:%S\"),LED_2W, LED_4W,Halogen_1 + Halogen_2,CFL,Toaster,Fan_speed]\n",
    "    with open('Daily_Energy.csv', 'a', encoding='UTF8', newline='') as f:\n",
    "        writer = csv.writer(f)\n",
    "        writer.writerow(header)"
   ]
  },
  {
   "cell_type": "code",
   "execution_count": 14,
   "metadata": {},
   "outputs": [
    {
     "data": {
      "text/plain": [
       "8.969166666666666"
      ]
     },
     "execution_count": 14,
     "metadata": {},
     "output_type": "execute_result"
    }
   ],
   "source": [
    "datafile = pd.read_csv('Daily_Energy.csv',header = 0)\n",
    "\n",
    "\n",
    "np.sum(datafile['Toaster'].to_numpy())/3600000"
   ]
  }
 ],
 "metadata": {
  "kernelspec": {
   "display_name": "Python 3.10.6 64-bit",
   "language": "python",
   "name": "python3"
  },
  "language_info": {
   "codemirror_mode": {
    "name": "ipython",
    "version": 3
   },
   "file_extension": ".py",
   "mimetype": "text/x-python",
   "name": "python",
   "nbconvert_exporter": "python",
   "pygments_lexer": "ipython3",
   "version": "3.10.6"
  },
  "orig_nbformat": 4,
  "vscode": {
   "interpreter": {
    "hash": "c5252f41cda903ea636bae5f212409c6b52ab532911ebf5c960538b6c783ba1c"
   }
  }
 },
 "nbformat": 4,
 "nbformat_minor": 2
}
